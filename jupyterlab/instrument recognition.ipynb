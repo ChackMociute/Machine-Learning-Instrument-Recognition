{
 "cells": [
  {
   "cell_type": "markdown",
   "id": "af80d6f1-2a6a-48bc-85c8-19faec13ac00",
   "metadata": {},
   "source": [
    "# Instrument recogntion machine learning project"
   ]
  },
  {
   "cell_type": "code",
   "execution_count": null,
   "id": "89e6e978-e4d9-4dcd-a3c9-db3d503ab792",
   "metadata": {},
   "outputs": [],
   "source": [
    "import os\n",
    "import tensorflow as tf\n",
    "import numpy as np\n",
    "import matplotlib as plt\n",
    "%matplotlib inline \n",
    "\n",
    "from sklearn.preprocessing import MultiLabelBinarizer\n",
    "from tensorflow.keras.models import Model, Sequential\n",
    "from tensorflow.keras.layers import *\n",
    "from tensorflow.keras.optimizers import Adam"
   ]
  },
  {
   "cell_type": "markdown",
   "id": "b17d7445-f5fa-46d5-baa6-87987543f5d2",
   "metadata": {},
   "source": [
    "## Parameters"
   ]
  },
  {
   "cell_type": "code",
   "execution_count": null,
   "id": "0464ff06-12d6-4081-8e2d-525abd7af1e1",
   "metadata": {},
   "outputs": [],
   "source": [
    "trainPath = \"../data/IRMAS-TrainingData\"\n",
    "testPath = \"../data/IRMAS-TestingData-Part\"\n",
    "\n",
    "\n",
    "SIZE = 44100\n",
    "VALIDATION_SIZE = 1000\n",
    "LSTM_RECURRENCE_SIZE = 40\n",
    "EPOCHS = 15\n",
    "BATCH_SIZE = 1"
   ]
  },
  {
   "cell_type": "markdown",
   "id": "a946099a-c3ad-434d-9855-692ceb4b1be8",
   "metadata": {},
   "source": [
    "## Utility functions"
   ]
  },
  {
   "cell_type": "code",
   "execution_count": null,
   "id": "10070382-8b12-4955-8887-cd1b1f94698a",
   "metadata": {
    "tags": []
   },
   "outputs": [],
   "source": [
    "def paths_and_labels_to_dataset(audio_paths, labels):\n",
    "    \"\"\"Constructs a dataset of audios and labels.\"\"\"\n",
    "    path_ds = tf.data.Dataset.from_tensor_slices(audio_paths)\n",
    "    audio_ds = path_ds.map(lambda x: path_to_audio(x))\n",
    "    label_ds = tf.data.Dataset.from_tensor_slices(labels)\n",
    "    return tf.data.Dataset.zip((audio_ds, label_ds))\n",
    "\n",
    "\n",
    "def path_to_audio(path):\n",
    "    \"\"\"Reads and decodes an audio file.\"\"\"\n",
    "    audio = tf.io.read_file(path)\n",
    "    audio, _ = tf.audio.decode_wav(audio, 1)\n",
    "    return tf.squeeze(audio)\n",
    "\n",
    "\n",
    "def get_audio_paths(directoryPath, files):\n",
    "    return [\n",
    "        os.path.join(directoryPath, file)\n",
    "        for file in files\n",
    "        if file.endswith(\".wav\") ]\n",
    "    \n",
    "    \n",
    "def get_labels(directoryPath, files):\n",
    "    mlb = MultiLabelBinarizer()\n",
    "    return mlb.fit_transform([\n",
    "        open(os.path.join(directoryPath, file)).read().split()\n",
    "        for file in files\n",
    "        if file.endswith(\".txt\") ])\n",
    "\n",
    "        \n",
    "def label_set():\n",
    "    labels = []\n",
    "    for folder in os.listdir(trainPath):\n",
    "        if os.path.isdir(os.path.join(trainPath, folder)):\n",
    "            labels.append(folder)\n",
    "    return labels"
   ]
  },
  {
   "cell_type": "markdown",
   "id": "23e5111c-bae9-4eb3-83e0-377c7cfb7f76",
   "metadata": {},
   "source": [
    "## Getting paths"
   ]
  },
  {
   "cell_type": "code",
   "execution_count": null,
   "id": "eca0d08e-8f0a-4a36-8102-4b57f1d92709",
   "metadata": {},
   "outputs": [],
   "source": [
    "def training_paths_and_labels(subFolder, label):\n",
    "    mlb = MultiLabelBinarizer()\n",
    "    subFolderItems = os.listdir(subFolder)\n",
    "    audioPaths = get_audio_paths(subFolder, subFolderItems)\n",
    "    labels = mlb.fit_transform([label_set()] + [[label]] * len(subFolderItems))[1:]\n",
    "    return audioPaths, labels\n",
    "\n",
    "\n",
    "def testing_paths_and_labels(subFolder):\n",
    "    subFolderItems = os.listdir(subFolder)\n",
    "    audioPaths = get_audio_paths(subFolder, subFolderItems)\n",
    "    labels = get_labels(subFolder, subFolderItems)\n",
    "    return audioPaths, labels\n",
    "\n",
    "\n",
    "def path_to_paths_and_labels(path, folderIsLabel=True):\n",
    "    audioPaths, labels = [], []\n",
    "    \n",
    "    for dir_ in os.listdir(path):\n",
    "        dirPath = os.path.join(path, dir_)\n",
    "        if not os.path.isdir(dirPath): continue\n",
    "        \n",
    "        if folderIsLabel:\n",
    "            newAudioPaths, newLabels = training_paths_and_labels(dirPath, dir_)    \n",
    "        else:\n",
    "            newAudioPaths, newLabels = testing_paths_and_labels(dirPath)\n",
    "        audioPaths += newAudioPaths\n",
    "        [labels.append(oneHotLabel) for oneHotLabel in newLabels]\n",
    "        \n",
    "    return audioPaths, labels"
   ]
  },
  {
   "cell_type": "markdown",
   "id": "dbd1a374-3f29-48c5-89e5-a32cbe3fa05d",
   "metadata": {},
   "source": [
    "## Generating datasets"
   ]
  },
  {
   "cell_type": "code",
   "execution_count": null,
   "id": "2a01b3b3-bf71-45d1-b49e-b5d915f6ea73",
   "metadata": {},
   "outputs": [],
   "source": [
    "def get_training_dataset():\n",
    "    audioPaths, labels = path_to_paths_and_labels(trainPath)\n",
    "\n",
    "    trainDS = paths_and_labels_to_dataset(audioPaths, labels)\n",
    "    trainDS = trainDS.shuffle(len(trainDS))\n",
    "    \n",
    "    return trainDS\n",
    "\n",
    "def get_testing_dataset():\n",
    "    audioPaths, labels = [], []\n",
    "    for i in range(1, 4):\n",
    "        newAudioPaths, newLabels = path_to_paths_and_labels(\"{}{}\".format(testPath, i), folderIsLabel=False)\n",
    "        audioPaths += newAudioPaths\n",
    "        labels += newLabels\n",
    "    \n",
    "    testDS = paths_and_labels_to_dataset(audioPaths, labels)\n",
    "    testDS = testDS.shuffle(len(testDS))\n",
    "    \n",
    "    return testDS\n",
    "\n",
    "def data_to_list(DS, size):\n",
    "    a, b = [], []\n",
    "    for (a_i, b_i) in DS.as_numpy_iterator():\n",
    "        if a_i.size < size: continue\n",
    "        \n",
    "        step_size = a_i.size//size\n",
    "        margin = (a_i.size%size)//2\n",
    "        a_i = a_i[margin:-1-margin:step_size]\n",
    "        a_i = a_i[:a_i.size-a_i.size%LSTM_RECURRENCE_SIZE].reshape(1, -1, LSTM_RECURRENCE_SIZE)\n",
    "        \n",
    "        a.append(a_i)\n",
    "        b.append(b_i)\n",
    "        \n",
    "    return a, b\n",
    "\n",
    "def split_training_data(DS, size):\n",
    "    a, b = data_to_list(DS, size)\n",
    "    \n",
    "    a = np.array(a)\n",
    "    b = np.array(b)\n",
    "\n",
    "    a_train, a_test = a[:-VALIDATION_SIZE], a[-VALIDATION_SIZE:]\n",
    "    b_train, b_test = b[:-VALIDATION_SIZE], b[-VALIDATION_SIZE:]\n",
    "    \n",
    "    return (a_train, b_train), (a_test, b_test)\n",
    "\n",
    "def test_data_to_numpy(DS, size):\n",
    "    a, b = data_to_list(DS, size)\n",
    "    \n",
    "    a = np.array(a, dtype=object).astype('float32')\n",
    "    #a = np.asarray(a).astype('float32')\n",
    "    b = np.array(b)\n",
    "    \n",
    "    return a, b"
   ]
  },
  {
   "cell_type": "code",
   "execution_count": null,
   "id": "230a0445-c584-4025-80bf-d6beb831e6aa",
   "metadata": {},
   "outputs": [],
   "source": [
    "trainDS = get_training_dataset()\n",
    "testDS = get_testing_dataset()\n",
    "(a_train, b_train), (a_test, b_test) = split_training_data(trainDS, SIZE)\n",
    "a, b = test_data_to_numpy(testDS, SIZE)"
   ]
  },
  {
   "cell_type": "markdown",
   "id": "0c357190-58a4-4d1c-8b51-d216267c2fae",
   "metadata": {},
   "source": [
    "## Deep learning model"
   ]
  },
  {
   "cell_type": "code",
   "execution_count": null,
   "id": "62cc56dc-7502-4344-a0ea-c4c8c8cca09e",
   "metadata": {},
   "outputs": [],
   "source": [
    "def residual_block(x, filters, conv_num=3, activation=\"relu\"):\n",
    "    # Shortcut\n",
    "    s = Conv1D(filters, 1, padding=\"same\")(x)\n",
    "    for i in range(conv_num - 1):\n",
    "        x = Conv1D(filters, 3, padding=\"same\")(x)\n",
    "        x = Activation(activation)(x)\n",
    "    x = Conv1D(filters, 3, padding=\"same\")(x)\n",
    "    x = Add()([x, s])\n",
    "    x = Activation(activation)(x)\n",
    "    return MaxPool1D(pool_size=2, strides=2)(x)\n",
    "\n",
    "\n",
    "\n",
    "# shape=(None, 44)\n",
    "inputs = Input(shape=(None, None, LSTM_RECURRENCE_SIZE), name=\"input\")\n",
    "\n",
    "x = ConvLSTM1D(256, 3, padding=\"same\")(inputs,)\n",
    "\n",
    "x = residual_block(x, 256, conv_num=2)\n",
    "x = residual_block(x, 512, conv_num=3)\n",
    "x = residual_block(x, 1024, conv_num=3)\n",
    "x = residual_block(x, 1024, conv_num=3)\n",
    "\n",
    "x = AveragePooling1D(pool_size=3, strides=3)(x)\n",
    "\n",
    "x = LSTM(128)(x)\n",
    "\n",
    "x = Dense(256, activation=\"relu\")(x)\n",
    "x = Dense(256, activation=\"relu\")(x)\n",
    "x = Dense(256, activation=\"relu\")(x)\n",
    "\n",
    "outputs = Dense(len(label_set()), activation=\"softmax\", name=\"output\")(x)\n",
    "\n",
    "\n",
    "model = Model(inputs=inputs, outputs=outputs)\n",
    "\n",
    "model.summary()\n",
    "\n",
    "model.compile(optimizer='Adam', loss='categorical_crossentropy', metrics=['accuracy'])"
   ]
  },
  {
   "cell_type": "markdown",
   "id": "39321401-5edb-4644-aec9-cc6c13152205",
   "metadata": {},
   "source": [
    "## Fitting the model"
   ]
  },
  {
   "cell_type": "code",
   "execution_count": null,
   "id": "a6244fff-709b-4f98-b152-7983e060cb1e",
   "metadata": {},
   "outputs": [],
   "source": [
    "model.fit(a_train, b_train, epochs=EPOCHS, batch_size=BATCH_SIZE, validation_data=(a_test, b_test))"
   ]
  },
  {
   "cell_type": "code",
   "execution_count": null,
   "id": "8d932d18-2e81-4923-b192-9a0ed3f65cd5",
   "metadata": {},
   "outputs": [],
   "source": [
    "model.evaluate(a, b)"
   ]
  },
  {
   "cell_type": "code",
   "execution_count": null,
   "id": "24514f60-4d49-4804-a9c8-4684acecfcad",
   "metadata": {},
   "outputs": [],
   "source": [
    "model.save(\"model\")"
   ]
  },
  {
   "cell_type": "markdown",
   "id": "a57e6b15-10ef-445d-9444-d0b8f4f088d5",
   "metadata": {},
   "source": [
    "## Testing data visualisations"
   ]
  },
  {
   "cell_type": "code",
   "execution_count": null,
   "id": "ca1cf4d5-8e57-4391-a15d-15658fa1c622",
   "metadata": {},
   "outputs": [],
   "source": [
    "x = 10 # which excerpt to show \n",
    "\n",
    "#plt.figure(figsize=(80, 10))\n",
    "#plt.scatter(range(0, a[x].size), a[x], s=1, alpha=1, );"
   ]
  },
  {
   "cell_type": "code",
   "execution_count": null,
   "id": "8093cc2f-c03f-408a-87dd-24ae62785e01",
   "metadata": {},
   "outputs": [],
   "source": [
    "#SIZE = 44100*3\n",
    "#margin = (a_train[x].size%SIZE)//2\n",
    "#audio = a_train[x][margin:-1-margin:int(a_train[x].size/SIZE)]\n",
    "\n",
    "#plt.figure(figsize=(80, 10))\n",
    "#plt.scatter(range(0, SIZE), audio, s=1, alpha=1, );"
   ]
  },
  {
   "cell_type": "markdown",
   "id": "58e64785-c4b2-488f-a8a6-838a7966b36e",
   "metadata": {},
   "source": [
    "## Artifacts"
   ]
  },
  {
   "cell_type": "code",
   "execution_count": null,
   "id": "de6d4127-c92a-4a2b-a7cf-5b4eab73c4d5",
   "metadata": {},
   "outputs": [],
   "source": [
    "\"\"\"inputs = Input(shape=(44100, 1), name=\"input\")\n",
    "\n",
    "x = Dense(64, activation='relu')(inputs)\n",
    "x = Dense(16, activation='relu')(x)\n",
    "x = Flatten()(x)\n",
    "x = Dense(128, activation='relu')(x)\n",
    "x = Dense(64, activation='relu')(x)\n",
    "outputs = Dense(len(label_set()), activation='softmax', name='output')(x)\n",
    "\n",
    "model = Model(inputs=inputs, outputs=outputs)\n",
    "\n",
    "model.summary()\n",
    "\n",
    "model = Sequential()\n",
    "model.add(Dense(2048, input_shape=(44100,), activation=\"relu\"))    # first dense layer, 32 hidden units\n",
    "model.add(Dense(1024, activation=\"relu\"))\n",
    "model.add(Dense(512, activation=\"relu\"))\n",
    "model.add(Dense(256, activation=\"relu\"))\n",
    "model.add(Dense(256, activation=\"relu\"))\n",
    "model.add(Flatten())\n",
    "model.add(Dense(256, activation=\"relu\"))\n",
    "model.add(Dense(128, activation=\"relu\"))\n",
    "model.add(Dense(32, activation=\"relu\"))\n",
    "model.add(Dense(32, activation=\"relu\"))\n",
    "model.add(Dense(11))                     # second dense layer\n",
    "model.add(Activation('softmax'))         # output class probabilities\n",
    "\n",
    "def residual_block(x, filters, conv_num=3, activation=\"relu\"):\n",
    "    # Shortcut\n",
    "    s = Conv1D(filters, 1, padding=\"same\")(x)\n",
    "    for i in range(conv_num - 1):\n",
    "        x = Conv1D(filters, 3, padding=\"same\")(x)\n",
    "        x = Activation(activation)(x)\n",
    "    x = Conv1D(filters, 3, padding=\"same\")(x)\n",
    "    x = Add()([x, s])\n",
    "    x = Activation(activation)(x)\n",
    "    return MaxPool1D(pool_size=2, strides=2)(x)\n",
    "\n",
    "\n",
    "def build_model(input_shape, num_classes):\n",
    "    inputs = Input(shape=input_shape, name=\"input\")\n",
    "\n",
    "    x = residual_block(inputs, 16, 2)\n",
    "    x = residual_block(x, 32, 2)\n",
    "    x = residual_block(x, 64, 3)\n",
    "    x = residual_block(x, 128, 3)\n",
    "    x = residual_block(x, 128, 3)\n",
    "\n",
    "    x = AveragePooling1D(pool_size=3, strides=3)(x)\n",
    "    x = Flatten()(x)\n",
    "    x = Dense(64, activation=\"relu\")(x)\n",
    "    x = Dense(128, activation=\"relu\")(x)\n",
    "\n",
    "    outputs = Dense(num_classes, activation=\"softmax\", name=\"output\")(x)\n",
    "\n",
    "    return Model(inputs=inputs, outputs=outputs)\n",
    "\n",
    "\n",
    "model = build_model((44100, 1), len(label_set()))\"\"\""
   ]
  }
 ],
 "metadata": {
  "kernelspec": {
   "display_name": "Python 3 (ipykernel)",
   "language": "python",
   "name": "python3"
  },
  "language_info": {
   "codemirror_mode": {
    "name": "ipython",
    "version": 3
   },
   "file_extension": ".py",
   "mimetype": "text/x-python",
   "name": "python",
   "nbconvert_exporter": "python",
   "pygments_lexer": "ipython3",
   "version": "3.10.2"
  }
 },
 "nbformat": 4,
 "nbformat_minor": 5
}
