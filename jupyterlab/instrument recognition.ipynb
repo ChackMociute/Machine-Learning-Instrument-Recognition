{
 "cells": [
  {
   "cell_type": "markdown",
   "id": "af80d6f1-2a6a-48bc-85c8-19faec13ac00",
   "metadata": {},
   "source": [
    "# Instrument recogntion machine learning project"
   ]
  },
  {
   "cell_type": "code",
   "execution_count": 1,
   "id": "89e6e978-e4d9-4dcd-a3c9-db3d503ab792",
   "metadata": {},
   "outputs": [],
   "source": [
    "import os\n",
    "import tensorflow as tf\n",
    "import numpy as np\n",
    "\n",
    "from sklearn.preprocessing import MultiLabelBinarizer\n",
    "from tensorflow.keras.models import Model, Sequential\n",
    "from tensorflow.keras.layers import *\n",
    "from tensorflow.keras.optimizers import Adam"
   ]
  },
  {
   "cell_type": "markdown",
   "id": "a946099a-c3ad-434d-9855-692ceb4b1be8",
   "metadata": {},
   "source": [
    "## Utility functions"
   ]
  },
  {
   "cell_type": "code",
   "execution_count": 2,
   "id": "10070382-8b12-4955-8887-cd1b1f94698a",
   "metadata": {},
   "outputs": [],
   "source": [
    "def paths_and_labels_to_dataset(audio_paths, labels):\n",
    "    \"\"\"Constructs a dataset of audios and labels.\"\"\"\n",
    "    path_ds = tf.data.Dataset.from_tensor_slices(audio_paths)\n",
    "    audio_ds = path_ds.map(lambda x: path_to_audio(x))\n",
    "    label_ds = tf.data.Dataset.from_tensor_slices(labels)\n",
    "    return tf.data.Dataset.zip((audio_ds, label_ds))\n",
    "\n",
    "\n",
    "def path_to_audio(path):\n",
    "    \"\"\"Reads and decodes an audio file.\"\"\"\n",
    "    audio = tf.io.read_file(path)\n",
    "    audio, _ = tf.audio.decode_wav(audio, 1, 44100)\n",
    "    return tf.squeeze(audio)\n",
    "\n",
    "\n",
    "def get_audio_paths(directoryPath, files):\n",
    "    return [\n",
    "        os.path.join(directoryPath, file)\n",
    "        for file in files\n",
    "        if file.endswith(\".wav\") ]\n",
    "    \n",
    "    \n",
    "def get_labels(directoryPath, files):\n",
    "    mlb = MultiLabelBinarizer()\n",
    "    return mlb.fit_transform([\n",
    "        open(os.path.join(directoryPath, file)).read().split()\n",
    "        for file in files\n",
    "        if file.endswith(\".txt\") ])\n",
    "\n",
    "        \n",
    "def label_set():\n",
    "    trainPath = \"../data/IRMAS-TrainingData\"\n",
    "    labels = []\n",
    "    for folder in os.listdir(trainPath):\n",
    "        if os.path.isdir(os.path.join(trainPath, folder)):\n",
    "            labels.append(folder)\n",
    "    return labels"
   ]
  },
  {
   "cell_type": "markdown",
   "id": "23e5111c-bae9-4eb3-83e0-377c7cfb7f76",
   "metadata": {},
   "source": [
    "## Getting paths"
   ]
  },
  {
   "cell_type": "code",
   "execution_count": 3,
   "id": "eca0d08e-8f0a-4a36-8102-4b57f1d92709",
   "metadata": {},
   "outputs": [],
   "source": [
    "def training_paths_and_labels(subFolder, label):\n",
    "    mlb = MultiLabelBinarizer()\n",
    "    subFolderItems = os.listdir(subFolder)\n",
    "    audioPaths = get_audio_paths(subFolder, subFolderItems)\n",
    "    labels = mlb.fit_transform([label_set()] + [[label]] * len(subFolderItems))[1:]\n",
    "    return audioPaths, labels\n",
    "\n",
    "\n",
    "def testing_paths_and_labels(subFolder):\n",
    "    subFolderItems = os.listdir(subFolder)\n",
    "    audioPaths = get_audio_paths(subFolder, subFolderItems)\n",
    "    labels = get_labels(subFolder, subFolderItems)\n",
    "    return audioPaths, labels\n",
    "\n",
    "\n",
    "def path_to_paths_and_labels(path, folderIsLabel=True):\n",
    "    audioPaths, labels = [], []\n",
    "    \n",
    "    for dir_ in os.listdir(path):\n",
    "        dirPath = os.path.join(path, dir_)\n",
    "        if not os.path.isdir(dirPath): continue\n",
    "        \n",
    "        if folderIsLabel:\n",
    "            newAudioPaths, newLabels = training_paths_and_labels(dirPath, dir_)    \n",
    "        else:\n",
    "            newAudioPaths, newLabels = testing_paths_and_labels(dirPath)\n",
    "        audioPaths += newAudioPaths\n",
    "        [labels.append(oneHotLabel) for oneHotLabel in newLabels]\n",
    "        \n",
    "    return audioPaths, labels"
   ]
  },
  {
   "cell_type": "markdown",
   "id": "dbd1a374-3f29-48c5-89e5-a32cbe3fa05d",
   "metadata": {},
   "source": [
    "## Generating datasets"
   ]
  },
  {
   "cell_type": "code",
   "execution_count": 4,
   "id": "2a01b3b3-bf71-45d1-b49e-b5d915f6ea73",
   "metadata": {},
   "outputs": [],
   "source": [
    "def get_training_dataset():\n",
    "    trainPath = \"../data/IRMAS-TrainingData\"\n",
    "    audioPaths, labels = path_to_paths_and_labels(trainPath)\n",
    "\n",
    "    trainDS = paths_and_labels_to_dataset(audioPaths, labels)\n",
    "    trainDS = trainDS.shuffle(len(trainDS))\n",
    "    \n",
    "    return trainDS\n",
    "\n",
    "def get_validation_dataset():\n",
    "    pass\n",
    "\n",
    "def get_testing_dataset():\n",
    "    testPath = \"../data/IRMAS-TestingData-Part\"\n",
    "    audioPaths, labels = [], []\n",
    "    for i in range(1, 4):\n",
    "        newAudioPaths, newLabels = path_to_paths_and_labels(\"{}{}\".format(testPath, i), folderIsLabel=False)\n",
    "        audioPaths += newAudioPaths\n",
    "        labels += newLabels\n",
    "    \n",
    "    testDS = paths_and_labels_to_dataset(audioPaths, labels)\n",
    "    testDS = testDS.shuffle(len(testDS))\n",
    "    \n",
    "    return testDS"
   ]
  },
  {
   "cell_type": "code",
   "execution_count": 5,
   "id": "230a0445-c584-4025-80bf-d6beb831e6aa",
   "metadata": {},
   "outputs": [
    {
     "ename": "AttributeError",
     "evalue": "'tuple' object has no attribute 'shuffle'",
     "output_type": "error",
     "traceback": [
      "\u001b[1;31m---------------------------------------------------------------------------\u001b[0m",
      "\u001b[1;31mAttributeError\u001b[0m                            Traceback (most recent call last)",
      "Input \u001b[1;32mIn [7]\u001b[0m, in \u001b[0;36m<cell line: 1>\u001b[1;34m()\u001b[0m\n\u001b[1;32m----> 1\u001b[0m trainDS \u001b[38;5;241m=\u001b[39m \u001b[43mget_training_dataset\u001b[49m\u001b[43m(\u001b[49m\u001b[43m)\u001b[49m\n\u001b[0;32m      2\u001b[0m testDS \u001b[38;5;241m=\u001b[39m get_testing_dataset()\n",
      "Input \u001b[1;32mIn [4]\u001b[0m, in \u001b[0;36mget_training_dataset\u001b[1;34m()\u001b[0m\n\u001b[0;32m      3\u001b[0m audioPaths, labels \u001b[38;5;241m=\u001b[39m path_to_paths_and_labels(trainPath)\n\u001b[0;32m      5\u001b[0m trainDS \u001b[38;5;241m=\u001b[39m paths_and_labels_to_dataset(audioPaths, labels)\n\u001b[1;32m----> 6\u001b[0m trainDS \u001b[38;5;241m=\u001b[39m \u001b[43mtrainDS\u001b[49m\u001b[38;5;241;43m.\u001b[39;49m\u001b[43mshuffle\u001b[49m(\u001b[38;5;28mlen\u001b[39m(trainDS))\n\u001b[0;32m      8\u001b[0m \u001b[38;5;28;01mreturn\u001b[39;00m trainDS\n",
      "\u001b[1;31mAttributeError\u001b[0m: 'tuple' object has no attribute 'shuffle'"
     ]
    }
   ],
   "source": [
    "trainDS = get_training_dataset()\n",
    "testDS = get_testing_dataset()\n",
    "#print(list(trainDS.as_numpy_iterator()))"
   ]
  },
  {
   "cell_type": "markdown",
   "id": "0c357190-58a4-4d1c-8b51-d216267c2fae",
   "metadata": {},
   "source": [
    "## Deep learning model"
   ]
  },
  {
   "cell_type": "code",
   "execution_count": 6,
   "id": "62cc56dc-7502-4344-a0ea-c4c8c8cca09e",
   "metadata": {},
   "outputs": [],
   "source": [
    "\"\"\"inputs = Input(shape=(44100, 1), name=\"input\")\n",
    "\n",
    "x = Dense(64, activation='relu')(inputs)\n",
    "x = Dense(16, activation='relu')(x)\n",
    "x = Flatten()(x)\n",
    "x = Dense(128, activation='relu')(x)\n",
    "x = Dense(64, activation='relu')(x)\n",
    "outputs = Dense(len(label_set()), activation='softmax', name='output')(x)\n",
    "\n",
    "model = Model(inputs=inputs, outputs=outputs)\n",
    "\n",
    "model.summary()\n",
    "\n",
    "model = Sequential()\n",
    "model.add(layers.Dense(128, input_shape=(44100,)))  # first dense layer, 32 hidden units\n",
    "model.add(layers.Activation('relu'))                # activation layer\n",
    "model.add(layers.Flatten())\n",
    "model.add(layers.Dense(32))\n",
    "model.add(layers.Dense(11))                     # second dense layer\n",
    "model.add(layers.Activation('softmax'))         # output class probabilities\"\"\"\n",
    "\n",
    "def residual_block(x, filters, conv_num=3, activation=\"relu\"):\n",
    "    # Shortcut\n",
    "    s = Conv1D(filters, 1, padding=\"same\")(x)\n",
    "    for i in range(conv_num - 1):\n",
    "        x = Conv1D(filters, 3, padding=\"same\")(x)\n",
    "        x = Activation(activation)(x)\n",
    "    x = Conv1D(filters, 3, padding=\"same\")(x)\n",
    "    x = Add()([x, s])\n",
    "    x = Activation(activation)(x)\n",
    "    return MaxPool1D(pool_size=2, strides=2)(x)\n",
    "\n",
    "\n",
    "def build_model(input_shape, num_classes):\n",
    "    inputs = Input(shape=input_shape, name=\"input\")\n",
    "\n",
    "    x = residual_block(inputs, 16, 2)\n",
    "    x = residual_block(x, 32, 2)\n",
    "    x = residual_block(x, 64, 3)\n",
    "    x = residual_block(x, 128, 3)\n",
    "    x = residual_block(x, 128, 3)\n",
    "\n",
    "    x = AveragePooling1D(pool_size=3, strides=3)(x)\n",
    "    x = Flatten()(x)\n",
    "    x = Dense(256, activation=\"relu\")(x)\n",
    "    x = Dense(128, activation=\"relu\")(x)\n",
    "\n",
    "    outputs = Dense(num_classes, activation=\"softmax\", name=\"output\")(x)\n",
    "\n",
    "    return Model(inputs=inputs, outputs=outputs)\n",
    "\n",
    "\n",
    "model = build_model((44100, 1), len(label_set()))\n",
    "\n",
    "model.summary()\n",
    "\n",
    "model.compile(optimizer='Adam', loss='categorical_crossentropy', metrics=['accuracy'])"
   ]
  },
  {
   "cell_type": "markdown",
   "id": "39321401-5edb-4644-aec9-cc6c13152205",
   "metadata": {},
   "source": [
    "## Fitting the model"
   ]
  },
  {
   "cell_type": "code",
   "execution_count": 7,
   "id": "e9a5be85-0cc8-46f6-93ed-80ea06f34fa5",
   "metadata": {},
   "outputs": [],
   "source": [
    "a = trainDS.map(lambda a, b: a)\n",
    "b = trainDS.map(lambda a, b: b)\n",
    "\n",
    "a = np.array(list(a.as_numpy_iterator()))\n",
    "b = np.array(list(b.as_numpy_iterator()))\n",
    "\n",
    "a_train, a_test = a[:-1000], a[-1000:]\n",
    "b_train, b_test = b[:-1000], b[-1000:]"
   ]
  },
  {
   "cell_type": "code",
   "execution_count": null,
   "id": "a6244fff-709b-4f98-b152-7983e060cb1e",
   "metadata": {},
   "outputs": [],
   "source": [
    "model.fit(a_train, b_train, epochs=15, batch_size=32)"
   ]
  },
  {
   "cell_type": "code",
   "execution_count": null,
   "id": "8d932d18-2e81-4923-b192-9a0ed3f65cd5",
   "metadata": {},
   "outputs": [],
   "source": [
    "model.evaluate(a_test, b_test, batch_size=1)"
   ]
  },
  {
   "cell_type": "code",
   "execution_count": null,
   "id": "24514f60-4d49-4804-a9c8-4684acecfcad",
   "metadata": {},
   "outputs": [],
   "source": [
    "model.save(\"model\")"
   ]
  }
 ],
 "metadata": {
  "kernelspec": {
   "display_name": "Python 3 (ipykernel)",
   "language": "python",
   "name": "python3"
  },
  "language_info": {
   "codemirror_mode": {
    "name": "ipython",
    "version": 3
   },
   "file_extension": ".py",
   "mimetype": "text/x-python",
   "name": "python",
   "nbconvert_exporter": "python",
   "pygments_lexer": "ipython3",
   "version": "3.10.2"
  }
 },
 "nbformat": 4,
 "nbformat_minor": 5
}
