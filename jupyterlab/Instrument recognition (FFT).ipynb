{
 "cells": [
  {
   "cell_type": "markdown",
   "id": "af80d6f1-2a6a-48bc-85c8-19faec13ac00",
   "metadata": {},
   "source": [
    "# Instrument recogntion machine learning project"
   ]
  },
  {
   "cell_type": "code",
   "execution_count": null,
   "id": "89e6e978-e4d9-4dcd-a3c9-db3d503ab792",
   "metadata": {},
   "outputs": [],
   "source": [
    "import os\n",
    "import random\n",
    "import re\n",
    "import tensorflow as tf\n",
    "import numpy as np\n",
    "import matplotlib.pyplot as plt\n",
    "%matplotlib inline \n",
    "\n",
    "from sklearn.preprocessing import MultiLabelBinarizer\n",
    "from sklearn.metrics import classification_report\n",
    "from tensorflow.keras.models import Model, Sequential\n",
    "from tensorflow.keras.layers import *\n",
    "from tensorflow.keras.optimizers import Adam"
   ]
  },
  {
   "cell_type": "markdown",
   "id": "b17d7445-f5fa-46d5-baa6-87987543f5d2",
   "metadata": {},
   "source": [
    "## Parameters"
   ]
  },
  {
   "cell_type": "code",
   "execution_count": null,
   "id": "0464ff06-12d6-4081-8e2d-525abd7af1e1",
   "metadata": {},
   "outputs": [],
   "source": [
    "trainPath = \"../data/IRMAS-TrainingData\"\n",
    "testPath = \"../data/IRMAS-TestingData-Part\"\n",
    "\n",
    "\n",
    "MAX_SIZE = 884000\n",
    "VALIDATION_SIZE = 1000\n",
    "EPOCHS = 200\n",
    "BATCH_SIZE = 4\n",
    "SHAPE=(BATCH_SIZE, 884000//2)\n",
    "OUTPUT_SHAPE=(BATCH_SIZE, 11)"
   ]
  },
  {
   "cell_type": "markdown",
   "id": "a946099a-c3ad-434d-9855-692ceb4b1be8",
   "metadata": {},
   "source": [
    "## Utility functions"
   ]
  },
  {
   "cell_type": "code",
   "execution_count": null,
   "id": "10070382-8b12-4955-8887-cd1b1f94698a",
   "metadata": {
    "tags": []
   },
   "outputs": [],
   "source": [
    "def path_to_audio(path):\n",
    "    \"\"\"Reads and decodes an audio file.\"\"\"\n",
    "    audio = tf.io.read_file(path)\n",
    "    audio, _ = tf.audio.decode_wav(audio, 1)\n",
    "    audio = add_padding(audio)\n",
    "    return fft(audio)\n",
    "\n",
    "\n",
    "def get_audio_paths(directoryPath, files):\n",
    "    return [\n",
    "        os.path.join(directoryPath, file)\n",
    "        for file in files\n",
    "        if file.endswith(\".wav\") ]\n",
    "    \n",
    "    \n",
    "def get_labels(directoryPath, files):\n",
    "    mlb = MultiLabelBinarizer()\n",
    "    return mlb.fit_transform([\n",
    "        open(os.path.join(directoryPath, file)).read().split()\n",
    "        for file in files\n",
    "        if file.endswith(\".txt\") ])\n",
    "\n",
    "        \n",
    "def add_padding(audio):\n",
    "    padding_size = MAX_SIZE - tf.size(audio)\n",
    "    if padding_size <= 0: return audio[:MAX_SIZE]\n",
    "    front_padding = random.randint(0, padding_size)\n",
    "    new_audio = np.zeros((MAX_SIZE, 1))\n",
    "    new_audio[front_padding:front_padding+tf.size(audio)] = audio\n",
    "    \n",
    "    return new_audio\n",
    "\n",
    "\n",
    "def fft(audio):\n",
    "    audio = tf.squeeze(audio, axis=-1)\n",
    "    fft = tf.signal.fft(\n",
    "        tf.cast(tf.complex(real=audio, imag=tf.zeros_like(audio)), tf.complex64)\n",
    "    )\n",
    "    #fft = tf.expand_dims(tf.squeeze(fft), axis=-1)\n",
    "    return tf.math.abs(fft[:fft.shape[0]//2])\n",
    "\n",
    "\n",
    "def shuffle(data, labels):\n",
    "    shuffle_indexes = np.random.permutation(len(data))\n",
    "    return np.array(data)[shuffle_indexes], np.array(labels)[shuffle_indexes]\n",
    "\n",
    "\n",
    "def label_set():\n",
    "    labels = []\n",
    "    for folder in os.listdir(trainPath):\n",
    "        if os.path.isdir(os.path.join(trainPath, folder)):\n",
    "            labels.append(folder)\n",
    "    return labels"
   ]
  },
  {
   "cell_type": "markdown",
   "id": "23e5111c-bae9-4eb3-83e0-377c7cfb7f76",
   "metadata": {},
   "source": [
    "## Getting paths"
   ]
  },
  {
   "cell_type": "code",
   "execution_count": null,
   "id": "eca0d08e-8f0a-4a36-8102-4b57f1d92709",
   "metadata": {},
   "outputs": [],
   "source": [
    "def training_paths_and_labels(subFolder, label):\n",
    "    mlb = MultiLabelBinarizer()\n",
    "    subFolderItems = os.listdir(subFolder)\n",
    "    audioPaths = get_audio_paths(subFolder, subFolderItems)\n",
    "    labels = mlb.fit_transform([label_set()] + [[label]] * len(subFolderItems))[1:]\n",
    "    return audioPaths, labels\n",
    "\n",
    "\n",
    "def testing_paths_and_labels(subFolder):\n",
    "    subFolderItems = os.listdir(subFolder)\n",
    "    audioPaths = get_audio_paths(subFolder, subFolderItems)\n",
    "    labels = get_labels(subFolder, subFolderItems)\n",
    "    return audioPaths, labels\n",
    "\n",
    "\n",
    "def path_to_paths_and_labels(path, folderIsLabel=True):\n",
    "    audioPaths, labels = [], []\n",
    "    \n",
    "    for dir_ in os.listdir(path):\n",
    "        dirPath = os.path.join(path, dir_)\n",
    "        if not os.path.isdir(dirPath): continue\n",
    "        \n",
    "        if folderIsLabel:\n",
    "            newAudioPaths, newLabels = training_paths_and_labels(dirPath, dir_)\n",
    "        else:\n",
    "            newAudioPaths, newLabels = testing_paths_and_labels(dirPath)\n",
    "        audioPaths += newAudioPaths\n",
    "        [labels.append(oneHotLabel) for oneHotLabel in newLabels]\n",
    "\n",
    "    return audioPaths, labels"
   ]
  },
  {
   "cell_type": "markdown",
   "id": "dbd1a374-3f29-48c5-89e5-a32cbe3fa05d",
   "metadata": {},
   "source": [
    "## Generating datasets"
   ]
  },
  {
   "cell_type": "code",
   "execution_count": null,
   "id": "2a01b3b3-bf71-45d1-b49e-b5d915f6ea73",
   "metadata": {},
   "outputs": [],
   "source": [
    "def dataset_generator(paths, labels):\n",
    "    audio = []\n",
    "    for i in range(paths[::BATCH_SIZE].size):\n",
    "        audio = [path_to_audio(path) for path in paths[BATCH_SIZE*i:BATCH_SIZE*(i+1)]]\n",
    "        if len(audio) < BATCH_SIZE: break\n",
    "        yield audio, labels[BATCH_SIZE*i:BATCH_SIZE*(i+1)]\n",
    "\n",
    "def get_training_dataset():\n",
    "    audioPaths, labels = path_to_paths_and_labels(trainPath)\n",
    "    audioPaths, labels = shuffle(audioPaths, labels)\n",
    "    \n",
    "    train_audio, val_audio = audioPaths[:-VALIDATION_SIZE], audioPaths[-VALIDATION_SIZE:]\n",
    "    train_labels, val_labels = labels[:-VALIDATION_SIZE], labels[-VALIDATION_SIZE:]\n",
    "    \n",
    "    train_audio = tf.data.Dataset.from_generator(dataset_generator, output_signature=\n",
    "                                                 (tf.TensorSpec(shape=SHAPE, dtype=tf.float32),\n",
    "                                                  tf.TensorSpec(shape=OUTPUT_SHAPE, dtype=tf.int32)),\n",
    "                                                 args=(train_audio, train_labels))\n",
    "    val_audio = tf.data.Dataset.from_generator(dataset_generator, output_signature=\n",
    "                                               (tf.TensorSpec(shape=SHAPE, dtype=tf.float32),\n",
    "                                                tf.TensorSpec(shape=OUTPUT_SHAPE, dtype=tf.int32)),\n",
    "                                               args=(val_audio, val_labels))\n",
    "    \n",
    "    return train_audio, val_audio\n",
    "\n",
    "def get_testing_dataset():\n",
    "    audioPaths, labels = [], []\n",
    "    for i in range(1, 4):\n",
    "        newAudioPaths, newLabels = path_to_paths_and_labels(\"{}{}\".format(testPath, i), folderIsLabel=False)\n",
    "        audioPaths += newAudioPaths\n",
    "        labels += newLabels\n",
    "        \n",
    "    audioPaths, labels = shuffle(audioPaths, labels)\n",
    "    \n",
    "    audio = tf.data.Dataset.from_generator(dataset_generator, output_signature=\n",
    "                                               (tf.TensorSpec(shape=SHAPE, dtype=tf.float32),\n",
    "                                                tf.TensorSpec(shape=OUTPUT_SHAPE, dtype=tf.int32)),\n",
    "                                               args=(audioPaths, labels))\n",
    "    \n",
    "    return audio"
   ]
  },
  {
   "cell_type": "code",
   "execution_count": null,
   "id": "230a0445-c584-4025-80bf-d6beb831e6aa",
   "metadata": {},
   "outputs": [],
   "source": [
    "train_data, val_data = get_training_dataset()\n",
    "test_data = get_testing_dataset()"
   ]
  },
  {
   "cell_type": "markdown",
   "id": "0c357190-58a4-4d1c-8b51-d216267c2fae",
   "metadata": {},
   "source": [
    "## Deep learning model"
   ]
  },
  {
   "cell_type": "code",
   "execution_count": null,
   "id": "62cc56dc-7502-4344-a0ea-c4c8c8cca09e",
   "metadata": {},
   "outputs": [],
   "source": [
    "inputs = Input(batch_size=BATCH_SIZE, shape=(884000//2,), name=\"input\")\n",
    "\n",
    "x = Dense(64,)(inputs)\n",
    "x = LeakyReLU()(x)\n",
    "x = Dense(100000,)(x)\n",
    "x = LeakyReLU()(x)\n",
    "x = Dense(32,)(x)\n",
    "x = LeakyReLU()(x)\n",
    "x = Dense(50000,)(x)\n",
    "x = LeakyReLU()(x)\n",
    "\n",
    "outputs = Dense(len(label_set()), activation=\"sigmoid\", name=\"output\")(x)\n",
    "\n",
    "\n",
    "model = Model(inputs=inputs, outputs=outputs)\n",
    "\n",
    "model.summary()\n",
    "\n",
    "opt = Adam(learning_rate=0.0001)\n",
    "model.compile(optimizer=opt, loss='categorical_crossentropy', metrics=['accuracy'])"
   ]
  },
  {
   "cell_type": "markdown",
   "id": "39321401-5edb-4644-aec9-cc6c13152205",
   "metadata": {},
   "source": [
    "## Fitting the model"
   ]
  },
  {
   "cell_type": "code",
   "execution_count": null,
   "id": "a6244fff-709b-4f98-b152-7983e060cb1e",
   "metadata": {},
   "outputs": [],
   "source": [
    "model.fit(train_data, epochs=EPOCHS, batch_size=BATCH_SIZE, validation_data=val_data)"
   ]
  },
  {
   "cell_type": "code",
   "execution_count": null,
   "id": "8d932d18-2e81-4923-b192-9a0ed3f65cd5",
   "metadata": {},
   "outputs": [],
   "source": [
    "model.evaluate(test_data)"
   ]
  },
  {
   "cell_type": "code",
   "execution_count": null,
   "id": "2b3af03c-588c-40b8-9638-c432bd6d26bc",
   "metadata": {},
   "outputs": [],
   "source": [
    "b_test = []\n",
    "\n",
    "for x in test_data.as_numpy_iterator():\n",
    "    for i in range(BATCH_SIZE):\n",
    "        b_test.append(x[1][i])\n",
    "        \n",
    "b_test = np.array(b_test)\n",
    "b_pred = model.predict(test_data, batch_size=BATCH_SIZE, verbose=1)\n",
    "b_pred = (b_pred>0.5).astype(int)"
   ]
  },
  {
   "cell_type": "code",
   "execution_count": null,
   "id": "17b1098a-bb41-4361-a750-be23b195ec9f",
   "metadata": {},
   "outputs": [],
   "source": [
    "print(classification_report(b_test, b_pred, target_names=label_set(), zero_division=0))\n",
    "\n",
    "f = open(\"FFT classification report.txt\", \"w\")\n",
    "f.write(classification_report(b_test, b_pred, target_names=label_set(), zero_division=0))\n",
    "f.close()"
   ]
  },
  {
   "cell_type": "code",
   "execution_count": null,
   "id": "24514f60-4d49-4804-a9c8-4684acecfcad",
   "metadata": {},
   "outputs": [],
   "source": [
    "model.save(\"Models/FFT model\")"
   ]
  },
  {
   "cell_type": "markdown",
   "id": "a57e6b15-10ef-445d-9444-d0b8f4f088d5",
   "metadata": {},
   "source": [
    "## Testing data visualisations"
   ]
  },
  {
   "cell_type": "code",
   "execution_count": null,
   "id": "ca1cf4d5-8e57-4391-a15d-15658fa1c622",
   "metadata": {},
   "outputs": [],
   "source": [
    "temp = test_data.__iter__().get_next()[0].numpy()\n",
    "print(temp.shape)\n",
    "\n",
    "plt.figure(figsize=(20, 10))\n",
    "plt.scatter(range(0, tf.size(temp)), temp, s=1, alpha=1, );\n",
    "#plt.savefig(\"Figures/FFT transformed.png\")"
   ]
  },
  {
   "cell_type": "code",
   "execution_count": null,
   "id": "fe3578fb-7aa5-4757-b3b3-f9d91f2bd37d",
   "metadata": {},
   "outputs": [],
   "source": [
    "f = open(\"Accuracy.txt\", \"r\")\n",
    "accuracy = f.read()\n",
    "f.close()\n",
    "\n",
    "data = re.split('\\n', accuracy)\n",
    "data = re.split('-', '-'.join(data))\n",
    "\n",
    "accuracy = [data[i].split() for i in range(len(data)) if \"accuracy\" in data[i]]\n",
    "test_accuracy = np.array([i[1] for i in accuracy[::2]]).astype(float)\n",
    "val_accuracy = np.array([i[1] for i in accuracy[1::2]]).astype(float)\n",
    "\n",
    "loss = [data[i].split() for i in range(len(data)) if \"loss\" in data[i]]\n",
    "test_loss = np.array([i[1] for i in loss[::2]]).astype(float)\n",
    "val_loss = np.array([i[1] for i in loss[1::2]]).astype(float)\n",
    "\n",
    "plt.figure(figsize=(20, 10))\n",
    "plt.subplot(1, 2, 1)\n",
    "plt.title(\"Training and validation accuracy\")\n",
    "plt.plot(test_accuracy, label=\"Training accuracy\")\n",
    "plt.plot(val_accuracy, label=\"Validation accuracy\")\n",
    "plt.xlabel(\"Epochs\")\n",
    "plt.ylabel(\"accuracy\")\n",
    "plt.legend()\n",
    "\n",
    "plt.subplot(1, 2, 2)\n",
    "plt.title(\"Training and validation loss\")\n",
    "plt.plot(test_loss, label=\"Training loss\")\n",
    "plt.plot(val_loss, label=\"Validation loss\")\n",
    "plt.xlabel(\"Epochs\")\n",
    "plt.ylabel(\"Loss\")\n",
    "plt.legend()\n",
    "\n",
    "plt.savefig(\"Figures/FFT overfitting.png\")\n",
    "plt.show()"
   ]
  },
  {
   "cell_type": "code",
   "execution_count": null,
   "id": "a5d5014e-20ce-4711-bc2c-d3594301ee1e",
   "metadata": {},
   "outputs": [],
   "source": []
  },
  {
   "cell_type": "markdown",
   "id": "58e64785-c4b2-488f-a8a6-838a7966b36e",
   "metadata": {},
   "source": [
    "## Artifacts"
   ]
  },
  {
   "cell_type": "raw",
   "id": "4b0ceccd-9d55-4ef3-8830-24b8385ba747",
   "metadata": {},
   "source": [
    "inputs = Input(shape=(44100, 1), name=\"input\")\n",
    "\n",
    "x = Dense(64, activation='relu')(inputs)\n",
    "x = Dense(16, activation='relu')(x)\n",
    "x = Flatten()(x)\n",
    "x = Dense(128, activation='relu')(x)\n",
    "x = Dense(64, activation='relu')(x)\n",
    "outputs = Dense(len(label_set()), activation='softmax', name='output')(x)\n",
    "\n",
    "model = Model(inputs=inputs, outputs=outputs)\n",
    "\n",
    "model.summary()\n",
    "\n",
    "model = Sequential()\n",
    "model.add(Dense(2048, input_shape=(44100,), activation=\"relu\"))    # first dense layer, 32 hidden units\n",
    "model.add(Dense(1024, activation=\"relu\"))\n",
    "model.add(Dense(512, activation=\"relu\"))\n",
    "model.add(Dense(256, activation=\"relu\"))\n",
    "model.add(Dense(256, activation=\"relu\"))\n",
    "model.add(Flatten())\n",
    "model.add(Dense(256, activation=\"relu\"))\n",
    "model.add(Dense(128, activation=\"relu\"))\n",
    "model.add(Dense(32, activation=\"relu\"))\n",
    "model.add(Dense(32, activation=\"relu\"))\n",
    "model.add(Dense(11))                     # second dense layer\n",
    "model.add(Activation('softmax'))         # output class probabilities\n",
    "\n",
    "def residual_block(x, filters, conv_num=3, activation=\"relu\"):\n",
    "    # Shortcut\n",
    "    s = Conv1D(filters, 1, padding=\"same\")(x)\n",
    "    for i in range(conv_num - 1):\n",
    "        x = Conv1D(filters, 3, padding=\"same\")(x)\n",
    "        x = Activation(activation)(x)\n",
    "    x = Conv1D(filters, 3, padding=\"same\")(x)\n",
    "    x = Add()([x, s])\n",
    "    x = Activation(activation)(x)\n",
    "    return MaxPool1D(pool_size=2, strides=2)(x)\n",
    "\n",
    "\n",
    "def build_model(input_shape, num_classes):\n",
    "    inputs = Input(shape=input_shape, name=\"input\")\n",
    "\n",
    "    x = residual_block(inputs, 16, 2)\n",
    "    x = residual_block(x, 32, 2)\n",
    "    x = residual_block(x, 64, 3)\n",
    "    x = residual_block(x, 128, 3)\n",
    "    x = residual_block(x, 128, 3)\n",
    "\n",
    "    x = AveragePooling1D(pool_size=3, strides=3)(x)\n",
    "    x = Flatten()(x)\n",
    "    x = Dense(64, activation=\"relu\")(x)\n",
    "    x = Dense(128, activation=\"relu\")(x)\n",
    "\n",
    "    outputs = Dense(num_classes, activation=\"softmax\", name=\"output\")(x)\n",
    "\n",
    "    return Model(inputs=inputs, outputs=outputs)\n",
    "\n",
    "\n",
    "model = build_model((44100, 1), len(label_set()))"
   ]
  },
  {
   "cell_type": "raw",
   "id": "e5f0b584-6483-4f28-b101-30c3716b7b00",
   "metadata": {},
   "source": [
    "dat = []\n",
    "lab = []\n",
    "for n in train_data.as_numpy_iterator():\n",
    "    dat.append(n[0].reshape(-1))\n",
    "    lab.append(n[1][0])\n",
    "    lab.append(n[1][1])"
   ]
  },
  {
   "cell_type": "raw",
   "id": "ecf337ed-82d1-4cbf-861c-5c2d92de66a1",
   "metadata": {},
   "source": [
    "[print(ap[i], ll[i], lab[i]) for i in range(len(ap[:50]))]"
   ]
  }
 ],
 "metadata": {
  "kernelspec": {
   "display_name": "Python 3 (ipykernel)",
   "language": "python",
   "name": "python3"
  },
  "language_info": {
   "codemirror_mode": {
    "name": "ipython",
    "version": 3
   },
   "file_extension": ".py",
   "mimetype": "text/x-python",
   "name": "python",
   "nbconvert_exporter": "python",
   "pygments_lexer": "ipython3",
   "version": "3.10.2"
  }
 },
 "nbformat": 4,
 "nbformat_minor": 5
}
